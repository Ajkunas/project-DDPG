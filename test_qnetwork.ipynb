{
 "cells": [
  {
   "cell_type": "code",
   "execution_count": 4,
   "id": "16da2e6b",
   "metadata": {},
   "outputs": [],
   "source": [
    "import gym \n",
    "import sys\n",
    "import numpy as np\n",
    "import torch.optim as optim\n",
    "import torch.nn as nn\n",
    "\n",
    "from helpers import NormalizedEnv\n",
    "from heuristic import HeuristicPendulumAgent\n",
    "from qnetwork import *\n",
    "from buffer import *"
   ]
  },
  {
   "cell_type": "code",
   "execution_count": 5,
   "id": "8d730379",
   "metadata": {},
   "outputs": [
    {
     "name": "stdout",
     "output_type": "stream",
     "text": [
      "The torque value is :  [1.2967964]\n"
     ]
    }
   ],
   "source": [
    "# Set up\n",
    "env = NormalizedEnv(gym.make(\"Pendulum-v1\"))\n",
    "\n",
    "# fixed torque \n",
    "torque = env.action(env.action_space.sample())\n",
    "print(\"The torque value is : \", torque)\n",
    "\n",
    "agent = HeuristicPendulumAgent(env, torque)\n",
    "\n",
    "buffer_size = 10000\n",
    "learning_rate = 1e-4\n",
    "gamma = 0.99\n",
    "\n",
    "buffer = ReplayBuffer(buffer_size)\n",
    "batch_size = 128\n",
    "\n",
    "num_states = env.observation_space.shape[0]\n",
    "num_actions = env.action_space.shape[0]\n",
    "hidden_size = 32 \n",
    "\n",
    "critic = QNetwork(num_states + num_actions, hidden_size, num_actions)\n",
    "\n",
    "optimizer = optim.Adam(critic.parameters(), lr=1e-4)\n",
    "criterion = nn.MSELoss()\n",
    "\n",
    "critic_losses = []\n",
    "rewards = []"
   ]
  },
  {
   "cell_type": "code",
   "execution_count": 6,
   "id": "e6ae2c61",
   "metadata": {},
   "outputs": [
    {
     "name": "stdout",
     "output_type": "stream",
     "text": [
      "episode: 0, reward: -1.9700245709395077, critic loss: 15.776589340633816 \n",
      "episode: 100, reward: -2.479352783917291, critic loss: 112.42576375961303 \n",
      "episode: 200, reward: -2.52223779931, critic loss: 84.46848686218262 \n",
      "episode: 300, reward: -1.32113439767961, critic loss: 67.96300494194031 \n",
      "episode: 400, reward: -2.5671284085742507, critic loss: 65.22369734287263 \n",
      "episode: 500, reward: -3.0596162437159347, critic loss: 67.96183012485504 \n",
      "episode: 600, reward: -2.4442286291004796, critic loss: 58.969188842773434 \n",
      "episode: 700, reward: -1.9252787507656919, critic loss: 65.9591827583313 \n",
      "episode: 800, reward: -1.947855450654292, critic loss: 73.50589000701905 \n",
      "episode: 900, reward: -2.4730806718767364, critic loss: 72.71744044065476 \n",
      "episode: 999, reward: -2.410514898055615, critic loss: 77.28852526068687 \n",
      "average cumulative reward :  -2.18315212360829\n"
     ]
    }
   ],
   "source": [
    "############################# TRAINING ######################\n",
    "\n",
    "for episode in range(1000):\n",
    "    state, info = env.reset()\n",
    "    \n",
    "    episode_reward = 0\n",
    "    episode_critic_loss = 0\n",
    "    \n",
    "    step_r = 0\n",
    "    step_l = 0\n",
    "    \n",
    "    trunc = False\n",
    "    \n",
    "    while not trunc:\n",
    "        action = agent.compute_action(state)\n",
    "        \n",
    "        next_state, reward, terminated, trunc, info = env.step(action)\n",
    "\n",
    "        episode_reward += reward\n",
    "        step_r +=1\n",
    "\n",
    "        buffer.add(state, action, reward, next_state, trunc)\n",
    "\n",
    "        if len(buffer) > batch_size:\n",
    "            transition = buffer.sample(batch_size)\n",
    "\n",
    "            batch = Transition(*zip(*transition))\n",
    "\n",
    "            loss = update(batch, critic, criterion, agent, optimizer, gamma)\n",
    "\n",
    "            episode_critic_loss += loss\n",
    "            step_l +=1\n",
    "\n",
    "        state = next_state\n",
    "\n",
    "        if trunc:\n",
    "            episode_reward = episode_reward/step_r\n",
    "            episode_critic_loss = episode_critic_loss/step_l\n",
    "            if ((episode % 100 == 0) or (episode == 999)):\n",
    "                sys.stdout.write(\"episode: {}, reward: {}, critic loss: {} \\n\".format(episode, episode_reward, episode_critic_loss))\n",
    "\n",
    "    rewards.append(episode_reward)\n",
    "    critic_losses.append(episode_critic_loss)\n",
    "\n",
    "av_cumulative_reward = sum(rewards)/1000\n",
    "print(\"average cumulative reward : \", av_cumulative_reward)"
   ]
  },
  {
   "cell_type": "code",
   "execution_count": null,
   "id": "5ab5b794",
   "metadata": {},
   "outputs": [],
   "source": [
    "import matplotlib.pyplot as plt\n",
    "\n",
    "############################ PLOT #########################\n",
    "\n",
    "# Generate x values\n",
    "x = list(range(1000))\n",
    "    \n",
    "y = critic_losses\n",
    "\n",
    "# Plot the functions\n",
    "plt.plot(x, y, color='blue', label='loss')\n",
    "\n",
    "# Add labels and a legend\n",
    "plt.xlabel('episode')\n",
    "plt.ylabel('')\n",
    "plt.legend()\n",
    "\n",
    "# Display the plot\n",
    "plt.show()"
   ]
  }
 ],
 "metadata": {
  "kernelspec": {
   "display_name": "Python 3 (ipykernel)",
   "language": "python",
   "name": "python3"
  },
  "language_info": {
   "codemirror_mode": {
    "name": "ipython",
    "version": 3
   },
   "file_extension": ".py",
   "mimetype": "text/x-python",
   "name": "python",
   "nbconvert_exporter": "python",
   "pygments_lexer": "ipython3",
   "version": "3.9.13"
  }
 },
 "nbformat": 4,
 "nbformat_minor": 5
}
