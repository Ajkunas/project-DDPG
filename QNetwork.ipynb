{
 "cells": [
  {
   "cell_type": "code",
   "execution_count": null,
   "id": "fad42e82",
   "metadata": {},
   "outputs": [],
   "source": [
    "import random\n",
    "import torch\n",
    "import torch.nn as nn\n",
    "import torch.nn.functional as F\n",
    "\n",
    "class ReplayBuffer:\n",
    "    def __init__(self, max_size):\n",
    "        self.max_size = max_size\n",
    "        self.buffer = []\n",
    "        self.idx = 0\n",
    "\n",
    "    def __len__(self):\n",
    "        return len(self.buffer)\n",
    "\n",
    "    def add(self, state, action, reward, next_state, trunc):\n",
    "        transition = (state, action, reward, next_state, trunc)\n",
    "        if len(self.buffer) < self.max_size:\n",
    "            self.buffer.append(transition)\n",
    "        else:\n",
    "            # not sure about the behaviour when buffer is overloaded.\n",
    "            self.buffer[self.idx] = transition\n",
    "            self.idx = (self.idx + 1) % self.max_size\n",
    "\n",
    "    def sample(self, batch_size):\n",
    "        batch = random.sample(self.buffer, batch_size)\n",
    "        states, actions, rewards, next_states, truncs = zip(*batch)\n",
    "        return states, actions, rewards, next_states, truncs\n",
    "    \n",
    "class QNetwork(nn.Module):\n",
    "    def __init__(self):\n",
    "        super(QNetwork, self).__init__()\n",
    "        self.fc1 = nn.Linear(4, 32)\n",
    "        self.fc2 = nn.Linear(32, 32)\n",
    "        self.fc3 = nn.Linear(32, 1)\n",
    "\n",
    "        self.relu = nn.ReLU()\n",
    "\n",
    "    def forward(self, x):\n",
    "        x = self.relu(self.fc1(x))\n",
    "        x = self.relu(self.fc2(x))\n",
    "        x = self.fc3(x)\n",
    "        return x\n",
    "    \n",
    "    def update(self, optimizer, transitions, gamma):\n",
    "        states, actions, rewards, next_states, truncs = transitions\n",
    "        states = torch.FloatTensor(states)\n",
    "        actions = torch.FloatTensor(actions)\n",
    "        rewards = torch.FloatTensor(rewards)\n",
    "        next_states = torch.FloatTensor(next_states)\n",
    "        truncs = torch.FloatTensor(truncs)\n",
    "\n",
    "        # Compute the TD target\n",
    "        with torch.no_grad():\n",
    "            next_actions = policy.select_action(next_states)\n",
    "            q_next = self.forward(torch.cat([next_states, next_actions], dim=1))\n",
    "            target = rewards + gamma * q_next * (1 - truncs)\n",
    "\n",
    "        # Compute the TD error and update the Q network\n",
    "        q_values = self.forward(torch.cat([states, actions], dim=1))\n",
    "        loss = F.mse_loss(q_values, target)\n",
    "        optimizer.zero_grad()\n",
    "        loss.backward()\n",
    "        optimizer.step()\n",
    "        return loss.item()"
   ]
  },
  {
   "cell_type": "code",
   "execution_count": null,
   "id": "14c36cef",
   "metadata": {},
   "outputs": [],
   "source": [
    "\n"
   ]
  },
  {
   "cell_type": "code",
   "execution_count": null,
   "id": "b19b7655",
   "metadata": {},
   "outputs": [],
   "source": []
  }
 ],
 "metadata": {
  "kernelspec": {
   "display_name": "Python 3 (ipykernel)",
   "language": "python",
   "name": "python3"
  },
  "language_info": {
   "codemirror_mode": {
    "name": "ipython",
    "version": 3
   },
   "file_extension": ".py",
   "mimetype": "text/x-python",
   "name": "python",
   "nbconvert_exporter": "python",
   "pygments_lexer": "ipython3",
   "version": "3.9.12"
  }
 },
 "nbformat": 4,
 "nbformat_minor": 5
}
