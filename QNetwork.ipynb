{
 "cells": [
  {
   "cell_type": "code",
   "execution_count": 5,
   "id": "2b151580",
   "metadata": {},
   "outputs": [],
   "source": [
    "from helpers import NormalizedEnv, RandomAgent"
   ]
  },
  {
   "cell_type": "code",
   "execution_count": 6,
   "id": "fad42e82",
   "metadata": {},
   "outputs": [],
   "source": [
    "import random\n",
    "import torch\n",
    "import torch.nn as nn\n",
    "import torch.nn.functional as F\n",
    "\n",
    "class ReplayBuffer:\n",
    "    def __init__(self, max_size):\n",
    "        self.max_size = max_size\n",
    "        self.buffer = []\n",
    "        self.idx = 0\n",
    "\n",
    "    def __len__(self):\n",
    "        return len(self.buffer)\n",
    "\n",
    "    def add(self, state, action, reward, next_state, trunc):\n",
    "        transition = (state, action, reward, next_state, trunc)\n",
    "        if len(self.buffer) < self.max_size:\n",
    "            self.buffer.append(transition)\n",
    "        else:\n",
    "            # not sure about the behaviour when buffer is overloaded.\n",
    "            self.buffer[self.idx] = transition\n",
    "            self.idx = (self.idx + 1) % self.max_size\n",
    "\n",
    "    def sample(self, batch_size):\n",
    "        batch = random.sample(self.buffer, batch_size)\n",
    "        states, actions, rewards, next_states, truncs = zip(*batch)\n",
    "        return states, actions, rewards, next_states, truncs\n",
    "    \n",
    "class QNetwork(nn.Module):\n",
    "    def __init__(self):\n",
    "        super(QNetwork, self).__init__()\n",
    "        self.fc1 = nn.Linear(4, 32)\n",
    "        self.fc2 = nn.Linear(32, 32)\n",
    "        self.fc3 = nn.Linear(32, 1)\n",
    "\n",
    "        self.relu = nn.ReLU()\n",
    "\n",
    "    def forward(self, x):\n",
    "        x = self.relu(self.fc1(x))\n",
    "        x = self.relu(self.fc2(x))\n",
    "        x = self.fc3(x)\n",
    "        return x\n",
    "    \n",
    "    def update(self, optimizer, transitions, gamma):\n",
    "        states, actions, rewards, next_states, truncs = transitions\n",
    "        states = torch.FloatTensor(states)\n",
    "        actions = torch.FloatTensor(actions)\n",
    "        rewards = torch.FloatTensor(rewards)\n",
    "        next_states = torch.FloatTensor(next_states)\n",
    "        truncs = torch.FloatTensor(truncs)\n",
    "\n",
    "        # Compute the TD target\n",
    "        with torch.no_grad():\n",
    "            next_actions = policy.select_action(next_states)\n",
    "            q_next = self.forward(torch.cat([next_states, next_actions], dim=1))\n",
    "            target = rewards + gamma * q_next * (1 - truncs)\n",
    "\n",
    "        # Compute the TD error and update the Q network\n",
    "        q_values = self.forward(torch.cat([states, actions], dim=1))\n",
    "        loss = F.mse_loss(q_values, target)\n",
    "        optimizer.zero_grad()\n",
    "        loss.backward()\n",
    "        optimizer.step()\n",
    "        return loss.item()"
   ]
  },
  {
   "cell_type": "code",
   "execution_count": 7,
   "id": "14c36cef",
   "metadata": {},
   "outputs": [],
   "source": [
    "# Implementation of a heuristic policy for the pendulum\n",
    "\n",
    "class HeuristicPendulumAgent:\n",
    "    def __init__(self, env):\n",
    "        self.state_size = env.observation_space.shape[0]\n",
    "        self.action_size = env.action_space.shape[0]\n",
    "        self.env = env\n",
    "        \n",
    "    def compute_action(self, state):\n",
    "        _, y, v = state\n",
    "        torque = self.env.m*self.env.g*self.env.l*y # fixed torque\n",
    "        action = np.empty((1,))\n",
    "        \n",
    "        if (y < 0):\n",
    "            np.append(action, np.sign(v)*torque) # same direction to angular velocity\n",
    "        else:\n",
    "            np.append(action, (-1)*np.sign(v)*torque) # opposite direction to angular velocity\n",
    "        return action"
   ]
  },
  {
   "cell_type": "code",
   "execution_count": 8,
   "id": "b19b7655",
   "metadata": {},
   "outputs": [
    {
     "ename": "IndentationError",
     "evalue": "expected an indented block (2927289266.py, line 4)",
     "output_type": "error",
     "traceback": [
      "\u001b[1;36m  File \u001b[1;32m\"C:\\Users\\Ajkuna Seipi\\AppData\\Local\\Temp\\ipykernel_7904\\2927289266.py\"\u001b[1;36m, line \u001b[1;32m4\u001b[0m\n\u001b[1;33m    \u001b[0m\n\u001b[1;37m    ^\u001b[0m\n\u001b[1;31mIndentationError\u001b[0m\u001b[1;31m:\u001b[0m expected an indented block\n"
     ]
    }
   ],
   "source": [
    "env = gym.make(\"Pendulum-v1\")\n",
    "norm_env = NormalizedEnv(env)\n",
    "heur_ag = HeuristicPendulumAgent(norm_env)\n",
    "buffer_size = 1e4\n",
    "replay_buffer = ReplayBuffer(buffer_size)\n",
    "critic = QNetwork()\n",
    "n_ep = 1000\n",
    "\n",
    "gamma = 0.99\n",
    "lr = 1e-4\n",
    "\n",
    "losses = []\n",
    "\n",
    "for x in range(n_ep) : \n",
    "    states, actions, rewards, next_states, truncs = replay_buffer.sample(128)\n",
    "    loss = critic.update()\n",
    "    \n",
    "    "
   ]
  }
 ],
 "metadata": {
  "kernelspec": {
   "display_name": "Python 3 (ipykernel)",
   "language": "python",
   "name": "python3"
  },
  "language_info": {
   "codemirror_mode": {
    "name": "ipython",
    "version": 3
   },
   "file_extension": ".py",
   "mimetype": "text/x-python",
   "name": "python",
   "nbconvert_exporter": "python",
   "pygments_lexer": "ipython3",
   "version": "3.9.13"
  }
 },
 "nbformat": 4,
 "nbformat_minor": 5
}
