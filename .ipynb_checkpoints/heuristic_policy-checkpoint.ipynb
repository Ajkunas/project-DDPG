{
 "cells": [
  {
   "cell_type": "markdown",
   "id": "e9e31bf8",
   "metadata": {},
   "source": [
    "## Control in a continuous action space with DDPG"
   ]
  },
  {
   "cell_type": "markdown",
   "id": "f85dabef",
   "metadata": {},
   "source": [
    "### Heuristic policy"
   ]
  },
  {
   "cell_type": "code",
   "execution_count": 111,
   "id": "94bfa5fa",
   "metadata": {},
   "outputs": [],
   "source": [
    "import gym \n",
    "import numpy as np\n",
    "from helpers import NormalizedEnv, RandomAgent\n",
    "from matplotlib import pyplot\n",
    "from heuristic import HeuristicPendulumAgent"
   ]
  },
  {
   "cell_type": "code",
   "execution_count": 112,
   "id": "38d2e101",
   "metadata": {},
   "outputs": [],
   "source": [
    "# Initialization\n",
    "\n",
    "env = gym.make(\"Pendulum-v1\")\n",
    "norm_env = NormalizedEnv(env) # accept actions between -1 and 1\n",
    "\n",
    "rand_ag = RandomAgent(norm_env)"
   ]
  },
  {
   "cell_type": "code",
   "execution_count": 113,
   "id": "0af3f5e2",
   "metadata": {},
   "outputs": [
    {
     "data": {
      "text/plain": [
       "Box(-2.0, 2.0, (1,), float32)"
      ]
     },
     "execution_count": 113,
     "metadata": {},
     "output_type": "execute_result"
    }
   ],
   "source": [
    "env.action_space"
   ]
  },
  {
   "cell_type": "code",
   "execution_count": 114,
   "id": "414354f9",
   "metadata": {},
   "outputs": [
    {
     "data": {
      "text/plain": [
       "Box(-2.0, 2.0, (1,), float32)"
      ]
     },
     "execution_count": 114,
     "metadata": {},
     "output_type": "execute_result"
    }
   ],
   "source": [
    "norm_env.action_space"
   ]
  },
  {
   "cell_type": "code",
   "execution_count": 115,
   "id": "0492d2e2",
   "metadata": {},
   "outputs": [
    {
     "data": {
      "text/plain": [
       "array([-1.9105378], dtype=float32)"
      ]
     },
     "execution_count": 115,
     "metadata": {},
     "output_type": "execute_result"
    }
   ],
   "source": [
    "norm_env.action_space.sample()"
   ]
  },
  {
   "cell_type": "code",
   "execution_count": 116,
   "id": "db1613f6",
   "metadata": {},
   "outputs": [
    {
     "name": "stdout",
     "output_type": "stream",
     "text": [
      "array of reward : [-1422.4163310189733, -932.2525206828751, -1565.5432776269813, -1612.4777469938706, -1416.5851435202499, -892.5226423933718, -1709.3642308562542, -1069.5681867994927, -1742.2286489851808, -1568.9655503754766]\n",
      "average cumulative reward : -1393.1924279252728\n"
     ]
    }
   ],
   "source": [
    "# one episode with a defined number of steps\n",
    "arr_reward = []\n",
    "num_ep = 10\n",
    "\n",
    "for episode in range(10):\n",
    "    state, info = norm_env.reset()\n",
    "    tot_reward = 0\n",
    "    truncated = False\n",
    "\n",
    "    while not truncated:\n",
    "        action = rand_ag.compute_action(state)\n",
    "        next_state, reward, terminated, truncated, info = norm_env.step(action)\n",
    "        tot_reward += reward\n",
    "        \n",
    "        state = next_state\n",
    "        \n",
    "        if truncated:\n",
    "            #state, info = norm_env.reset()\n",
    "            break\n",
    "    arr_reward.append(tot_reward)\n",
    "\n",
    "print(\"array of reward :\", arr_reward)\n",
    "\n",
    "av_reward = sum(arr_reward)/num_ep\n",
    "print(\"average cumulative reward :\", av_reward)"
   ]
  },
  {
   "cell_type": "code",
   "execution_count": 117,
   "id": "674d36e9",
   "metadata": {},
   "outputs": [],
   "source": [
    "sample = norm_env.action_space.sample()\n",
    "torque = norm_env.action(sample)"
   ]
  },
  {
   "cell_type": "code",
   "execution_count": 118,
   "id": "2931cc73",
   "metadata": {},
   "outputs": [
    {
     "data": {
      "text/plain": [
       "array([0.2911027], dtype=float32)"
      ]
     },
     "execution_count": 118,
     "metadata": {},
     "output_type": "execute_result"
    }
   ],
   "source": [
    "sample"
   ]
  },
  {
   "cell_type": "code",
   "execution_count": 119,
   "id": "c5f188c4",
   "metadata": {},
   "outputs": [
    {
     "data": {
      "text/plain": [
       "array([0.5822054], dtype=float32)"
      ]
     },
     "execution_count": 119,
     "metadata": {},
     "output_type": "execute_result"
    }
   ],
   "source": [
    "torque"
   ]
  },
  {
   "cell_type": "code",
   "execution_count": 135,
   "id": "0411f645",
   "metadata": {},
   "outputs": [],
   "source": [
    "arr_torque = [norm_env.action(norm_env.action_space.sample())[0] for x in range(50)]"
   ]
  },
  {
   "cell_type": "code",
   "execution_count": 136,
   "id": "c02998f0",
   "metadata": {},
   "outputs": [],
   "source": [
    "heur_ag = HeuristicPendulumAgent(norm_env, torque)\n",
    "arr_av_reward = []"
   ]
  },
  {
   "cell_type": "code",
   "execution_count": 137,
   "id": "2726e186",
   "metadata": {},
   "outputs": [
    {
     "name": "stdout",
     "output_type": "stream",
     "text": [
      "average cumulative reward : -609.8291321076985\n",
      "average cumulative reward : -434.6386046613502\n",
      "average cumulative reward : -1699.0898932250923\n",
      "average cumulative reward : -1849.2607754899432\n",
      "average cumulative reward : -481.3803516233567\n",
      "average cumulative reward : -465.87842750805675\n",
      "average cumulative reward : -402.3842019091005\n",
      "average cumulative reward : -450.30093293830606\n",
      "average cumulative reward : -435.31828576543984\n",
      "average cumulative reward : -376.1942945080724\n",
      "average cumulative reward : -1851.3329911059802\n",
      "average cumulative reward : -405.3365815717992\n",
      "average cumulative reward : -1819.7516736099399\n",
      "average cumulative reward : -1796.079766929976\n",
      "average cumulative reward : -409.83005767839006\n",
      "average cumulative reward : -1837.1309728415497\n",
      "average cumulative reward : -507.89246901120725\n",
      "average cumulative reward : -402.4344133676715\n",
      "average cumulative reward : -1212.419051883129\n",
      "average cumulative reward : -461.6689423601594\n",
      "average cumulative reward : -460.32836889390046\n",
      "average cumulative reward : -1869.7840972492984\n",
      "average cumulative reward : -1705.3758655942559\n",
      "average cumulative reward : -389.1655574325921\n",
      "average cumulative reward : -1783.6467930795814\n",
      "average cumulative reward : -447.34605890536676\n",
      "average cumulative reward : -1802.6787067311227\n",
      "average cumulative reward : -394.07342479420896\n",
      "average cumulative reward : -1856.619180586925\n",
      "average cumulative reward : -407.11547652359366\n",
      "average cumulative reward : -1607.6012267590013\n",
      "average cumulative reward : -1461.8270048707807\n",
      "average cumulative reward : -1741.11450294033\n",
      "average cumulative reward : -438.45291431047946\n",
      "average cumulative reward : -432.3511429399306\n",
      "average cumulative reward : -449.2815757948577\n",
      "average cumulative reward : -409.5812177994791\n",
      "average cumulative reward : -1819.070855841889\n",
      "average cumulative reward : -785.2314502432247\n",
      "average cumulative reward : -425.44377556045526\n",
      "average cumulative reward : -397.18335021719236\n",
      "average cumulative reward : -469.90211906234435\n",
      "average cumulative reward : -1826.6198525345299\n",
      "average cumulative reward : -477.4478893743409\n",
      "average cumulative reward : -1857.738851126613\n",
      "average cumulative reward : -1785.7030983735997\n",
      "average cumulative reward : -479.9669174441989\n",
      "average cumulative reward : -1822.7831318694002\n",
      "average cumulative reward : -410.9461641277404\n",
      "average cumulative reward : -398.20473437865974\n"
     ]
    }
   ],
   "source": [
    "# Execute 10 episodes with Heuristic agent\n",
    "for torque in arr_torque: \n",
    "    heur_ag = HeuristicPendulumAgent(norm_env, torque) \n",
    "    arr_reward = []\n",
    "    num_ep = 10\n",
    "\n",
    "    for episode in range(10):\n",
    "        state, info = norm_env.reset()\n",
    "        tot_reward = 0\n",
    "        truncated = False\n",
    "\n",
    "        while not truncated:\n",
    "            action = heur_ag.compute_action(state)\n",
    "            next_state, reward, terminated, truncated, info = norm_env.step(action)\n",
    "            tot_reward += reward\n",
    "\n",
    "            state = next_state\n",
    "\n",
    "            if truncated:\n",
    "                #state, info = norm_env.reset()\n",
    "                break\n",
    "\n",
    "        arr_reward.append(tot_reward)\n",
    "\n",
    "    #print(\"array of reward :\", arr_reward)\n",
    "\n",
    "    av_reward = sum(arr_reward)/num_ep\n",
    "    arr_av_reward.append(av_reward)\n",
    "    print(\"average cumulative reward :\", av_reward)"
   ]
  },
  {
   "cell_type": "code",
   "execution_count": null,
   "id": "e9e2bdc2",
   "metadata": {},
   "outputs": [],
   "source": [
    "# torque of 0.35203373, we get av reward -755\n",
    "# torque of 2.2155256, we get av reward of -511\n",
    "# torque of -1.7520167 we get av reward of -1765\n",
    "# torque of 0.5822054 we get av reward of -537"
   ]
  },
  {
   "cell_type": "code",
   "execution_count": 138,
   "id": "06ac5a31",
   "metadata": {},
   "outputs": [
    {
     "data": {
      "image/png": "[encoded data removed]",
      "text/plain": [
       "<Figure size 640x480 with 1 Axes>"
      ]
     },
     "metadata": {},
     "output_type": "display_data"
    }
   ],
   "source": [
    "import matplotlib.pyplot as plt\n",
    "\n",
    "plt.scatter(arr_torque, arr_av_reward)\n",
    "plt.title('My Plot')\n",
    "plt.xlabel('torque values')\n",
    "plt.ylabel('average reward values')\n",
    "\n",
    "plt.show()"
   ]
  },
  {
   "cell_type": "markdown",
   "id": "3ef8cd89",
   "metadata": {},
   "source": [
    "#### How does it compare with the reward of the random agent ?\n",
    "\n",
    "We notice that depending on the value of the torque, the reward is much bigger. On the other hand, with the random agent, the reward does not depend on the value of the torque, it is always very small (arount -1800)"
   ]
  },
  {
   "cell_type": "markdown",
   "id": "5ebe4148",
   "metadata": {},
   "source": [
    "#### What impact does the amplitude of the fixed torque have on the reward ?\n",
    "\n",
    "We can see from the graph that when the amplitude of the torque is positive (greater than 0), we have a much bigger reward. More the amplitude is big, and bigger is the reward. \n",
    "On the other hand, when the amplitude of the torque is negative and very small, we have a very small reward. "
   ]
  }
 ],
 "metadata": {
  "kernelspec": {
   "display_name": "Python 3 (ipykernel)",
   "language": "python",
   "name": "python3"
  },
  "language_info": {
   "codemirror_mode": {
    "name": "ipython",
    "version": 3
   },
   "file_extension": ".py",
   "mimetype": "text/x-python",
   "name": "python",
   "nbconvert_exporter": "python",
   "pygments_lexer": "ipython3",
   "version": "3.9.13"
  }
 },
 "nbformat": 4,
 "nbformat_minor": 5
}
