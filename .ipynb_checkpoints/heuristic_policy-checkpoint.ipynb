{
 "cells": [
  {
   "cell_type": "markdown",
   "id": "e9e31bf8",
   "metadata": {},
   "source": [
    "## Control in a continuous action space with DDPG"
   ]
  },
  {
   "cell_type": "markdown",
   "id": "f85dabef",
   "metadata": {},
   "source": [
    "### Heuristic policy"
   ]
  },
  {
   "cell_type": "code",
   "execution_count": 111,
   "id": "94bfa5fa",
   "metadata": {},
   "outputs": [],
   "source": [
    "import gym \n",
    "import numpy as np\n",
    "from helpers import NormalizedEnv, RandomAgent\n",
    "from matplotlib import pyplot\n",
    "from heuristic import HeuristicPendulumAgent"
   ]
  },
  {
   "cell_type": "code",
   "execution_count": 112,
   "id": "38d2e101",
   "metadata": {},
   "outputs": [],
   "source": [
    "# Initialization\n",
    "\n",
    "env = gym.make(\"Pendulum-v1\")\n",
    "norm_env = NormalizedEnv(env) # accept actions between -1 and 1\n",
    "\n",
    "rand_ag = RandomAgent(norm_env)"
   ]
  },
  {
   "cell_type": "code",
   "execution_count": 113,
   "id": "0df9160f",
   "metadata": {},
   "outputs": [
    {
     "data": {
      "text/plain": [
       "Box(-2.0, 2.0, (1,), float32)"
      ]
     },
     "execution_count": 113,
     "metadata": {},
     "output_type": "execute_result"
    }
   ],
   "source": [
    "env.action_space"
   ]
  },
  {
   "cell_type": "code",
   "execution_count": 114,
   "id": "39b2142e",
   "metadata": {},
   "outputs": [
    {
     "data": {
      "text/plain": [
       "Box(-2.0, 2.0, (1,), float32)"
      ]
     },
     "execution_count": 114,
     "metadata": {},
     "output_type": "execute_result"
    }
   ],
   "source": [
    "norm_env.action_space"
   ]
  },
  {
   "cell_type": "code",
   "execution_count": 115,
   "id": "d4e47d5e",
   "metadata": {},
   "outputs": [
    {
     "data": {
      "text/plain": [
       "array([-1.9105378], dtype=float32)"
      ]
     },
     "execution_count": 115,
     "metadata": {},
     "output_type": "execute_result"
    }
   ],
   "source": [
    "norm_env.action_space.sample()"
   ]
  },
  {
   "cell_type": "code",
   "execution_count": 116,
   "id": "db1613f6",
   "metadata": {},
   "outputs": [
    {
     "name": "stdout",
     "output_type": "stream",
     "text": [
      "array of reward : [-1422.4163310189733, -932.2525206828751, -1565.5432776269813, -1612.4777469938706, -1416.5851435202499, -892.5226423933718, -1709.3642308562542, -1069.5681867994927, -1742.2286489851808, -1568.9655503754766]\n",
      "average cumulative reward : -1393.1924279252728\n"
     ]
    }
   ],
   "source": [
    "# one episode with a defined number of steps\n",
    "arr_reward = []\n",
    "num_ep = 10\n",
    "\n",
    "for episode in range(10):\n",
    "    state, info = norm_env.reset()\n",
    "    tot_reward = 0\n",
    "    truncated = False\n",
    "\n",
    "    while not truncated:\n",
    "        action = rand_ag.compute_action(state)\n",
    "        next_state, reward, terminated, truncated, info = norm_env.step(action)\n",
    "        tot_reward += reward\n",
    "        \n",
    "        state = next_state\n",
    "        \n",
    "        if truncated:\n",
    "            #state, info = norm_env.reset()\n",
    "            break\n",
    "    arr_reward.append(tot_reward)\n",
    "\n",
    "print(\"array of reward :\", arr_reward)\n",
    "\n",
    "av_reward = sum(arr_reward)/num_ep\n",
    "print(\"average cumulative reward :\", av_reward)"
   ]
  },
  {
   "cell_type": "code",
   "execution_count": 117,
   "id": "4792c4e0",
   "metadata": {},
   "outputs": [],
   "source": [
    "sample = norm_env.action_space.sample()\n",
    "torque = norm_env.action(sample)"
   ]
  },
  {
   "cell_type": "code",
   "execution_count": 118,
   "id": "4525de5b",
   "metadata": {},
   "outputs": [
    {
     "data": {
      "text/plain": [
       "array([0.2911027], dtype=float32)"
      ]
     },
     "execution_count": 118,
     "metadata": {},
     "output_type": "execute_result"
    }
   ],
   "source": [
    "sample"
   ]
  },
  {
   "cell_type": "code",
   "execution_count": 119,
   "id": "049ec7cb",
   "metadata": {},
   "outputs": [
    {
     "data": {
      "text/plain": [
       "array([0.5822054], dtype=float32)"
      ]
     },
     "execution_count": 119,
     "metadata": {},
     "output_type": "execute_result"
    }
   ],
   "source": [
    "torque"
   ]
  },
  {
   "cell_type": "code",
   "execution_count": 124,
   "id": "09ff7e90",
   "metadata": {},
   "outputs": [],
   "source": [
    "arr_torque = [norm_env.action(norm_env.action_space.sample())[0] for x in range(15)]"
   ]
  },
  {
   "cell_type": "code",
   "execution_count": 125,
   "id": "7eca02c5",
   "metadata": {},
   "outputs": [
    {
     "data": {
      "text/plain": [
       "[0.28185394,\n",
       " -1.0064416,\n",
       " 0.2999588,\n",
       " 3.4169905,\n",
       " -1.2568234,\n",
       " 2.8020298,\n",
       " -1.0085744,\n",
       " 3.2881496,\n",
       " 1.1949316,\n",
       " -1.3776081,\n",
       " -1.1054505,\n",
       " 0.25499818,\n",
       " 3.583984,\n",
       " 0.5411585,\n",
       " 1.6080472]"
      ]
     },
     "execution_count": 125,
     "metadata": {},
     "output_type": "execute_result"
    }
   ],
   "source": [
    "arr_torque"
   ]
  },
  {
   "cell_type": "code",
   "execution_count": 129,
   "id": "83fd0b01",
   "metadata": {},
   "outputs": [],
   "source": [
    "heur_ag = HeuristicPendulumAgent(norm_env, torque)\n",
    "arr_av_reward = []"
   ]
  },
  {
   "cell_type": "code",
   "execution_count": 130,
   "id": "2726e186",
   "metadata": {},
   "outputs": [
    {
     "name": "stdout",
     "output_type": "stream",
     "text": [
      "array of reward : [-854.5636787138714, -963.0131030616228, -253.2784554326968, -1091.024043857573, -498.7183548736032, -377.44029049060646, -1198.9049758997985, -964.5304217492464, -613.231305151004, -731.0822211091263]\n",
      "average cumulative reward : -754.5786850339149\n",
      "array of reward : [-1758.7582765740622, -1903.8879494415721, -1864.683987849427, -1707.6687655688506, -1905.1522616403731, -1297.1110846383147, -1846.2368029924776, -1774.662379025417, -1711.0148929316686, -1909.4950361381195]\n",
      "average cumulative reward : -1767.8671436800282\n",
      "array of reward : [-252.96199313150666, -1254.3726262563735, -498.57522334607967, -961.7352901321585, -973.6668782897991, -618.8006248159272, -346.7089339738365, -735.6134534743807, -359.3238648630715, -1117.2542119542131]\n",
      "average cumulative reward : -711.9013100237346\n",
      "array of reward : [-391.98274622898583, -389.2647588214957, -601.0713399784397, -614.1375511627209, -390.16267429207824, -506.9259619271972, -593.0688020823274, -377.1093332726493, -563.4087374422712, -543.0266773032624]\n",
      "average cumulative reward : -497.0158582511428\n",
      "array of reward : [-1815.9169317423436, -1914.0729990930454, -1874.3118126450283, -1763.4342059817357, -1596.0113955957866, -1943.2225454953336, -1887.4369306469275, -1837.9751588361248, -1912.9642444260282, -1800.069867642567]\n",
      "average cumulative reward : -1834.541609210492\n",
      "array of reward : [-502.5960307879829, -379.25274405178624, -393.32732732021833, -393.6875197630799, -402.1536141751926, -389.6183262036295, -396.8977980026755, -485.66384529447873, -604.3973427007556, -272.27595558297946]\n",
      "average cumulative reward : -421.987050388278\n",
      "array of reward : [-1932.1428680436138, -1881.7321121137459, -1785.5919804684172, -1809.6021895068695, -1748.681756469733, -1778.216469436922, -1884.6259119483782, -1758.6688132886604, -1838.9131576561908, -1722.2024487232252]\n",
      "average cumulative reward : -1814.037770765576\n",
      "array of reward : [-393.54292129857527, -263.44775749859076, -510.7806164476283, -391.9686902495321, -390.31835635459845, -613.0546089988405, -496.6630441170455, -512.1834994822484, -495.6980451405348, -277.7299260688376]\n",
      "average cumulative reward : -434.53874656564324\n",
      "array of reward : [-268.9720873589606, -497.7609248153819, -507.0409740330878, -510.3224581885178, -388.7090146892221, -373.3210753476878, -397.32324418693344, -394.19166841518825, -394.6551237169937, -605.06656556517]\n",
      "average cumulative reward : -433.7363136317143\n",
      "array of reward : [-1838.4263772720892, -1838.0331325425745, -1874.7750939574585, -1819.2472479133057, -1933.037812518592, -1892.6049988591226, -1774.1764456862072, -1478.024220510497, -1767.4657024370658, -1918.2628256204323]\n",
      "average cumulative reward : -1813.4053857317344\n",
      "array of reward : [-1861.482682261887, -1662.001306902485, -1845.2119396792255, -1833.4898479343167, -1936.9026803979689, -1936.5420700316154, -1866.6781438039973, -1842.4710516831638, -1822.6868689718376, -1902.9269975541413]\n",
      "average cumulative reward : -1851.039358922064\n",
      "array of reward : [-376.6017048685235, -857.8021504766151, -1280.4342734244344, -627.5932731578678, -679.300088902539, -964.851890165744, -1249.8176944832467, -622.5455998171217, -854.0215294251127, -380.62452708030025]\n",
      "average cumulative reward : -789.3592731801506\n",
      "array of reward : [-484.99920690647764, -492.9646090534406, -389.68764368292756, -377.0515162734706, -493.90991822591303, -392.57963800249075, -399.8170940216209, -387.3853639011069, -392.7801460745397, -397.0297897910316]\n",
      "average cumulative reward : -420.8204925933019\n",
      "array of reward : [-617.3300878166887, -381.870286120316, -609.6352976793455, -378.9917054650697, -722.0102249504027, -492.5968366794164, -772.1560094436514, -835.8026219042146, -258.36493712439244, -737.0108572251769]\n",
      "average cumulative reward : -580.5768864408675\n",
      "array of reward : [-373.01363903551794, -414.1947143472031, -507.7191029955773, -622.8906457208536, -242.29052141932434, -267.52361992167795, -390.5575938151347, -390.4903463009427, -506.7800264114735, -620.3424000522537]\n",
      "average cumulative reward : -433.58026100199584\n"
     ]
    }
   ],
   "source": [
    "# Execute 10 episodes with Heuristic agent\n",
    "for torque in arr_torque: \n",
    "    heur_ag = HeuristicPendulumAgent(norm_env, torque) \n",
    "    arr_reward = []\n",
    "    num_ep = 10\n",
    "\n",
    "    for episode in range(10):\n",
    "        state, info = norm_env.reset()\n",
    "        tot_reward = 0\n",
    "        truncated = False\n",
    "\n",
    "        while not truncated:\n",
    "            action = heur_ag.compute_action(state)\n",
    "            next_state, reward, terminated, truncated, info = norm_env.step(action)\n",
    "            tot_reward += reward\n",
    "\n",
    "            state = next_state\n",
    "\n",
    "            if truncated:\n",
    "                #state, info = norm_env.reset()\n",
    "                break\n",
    "\n",
    "        arr_reward.append(tot_reward)\n",
    "\n",
    "    #print(\"array of reward :\", arr_reward)\n",
    "\n",
    "    av_reward = sum(arr_reward)/num_ep\n",
    "    arr_av_reward.append(av_reward)\n",
    "    print(\"average cumulative reward :\", av_reward)"
   ]
  },
  {
   "cell_type": "code",
   "execution_count": 131,
   "id": "73695646",
   "metadata": {},
   "outputs": [
    {
     "data": {
      "text/plain": [
       "[-754.5786850339149,\n",
       " -1767.8671436800282,\n",
       " -711.9013100237346,\n",
       " -497.0158582511428,\n",
       " -1834.541609210492,\n",
       " -421.987050388278,\n",
       " -1814.037770765576,\n",
       " -434.53874656564324,\n",
       " -433.7363136317143,\n",
       " -1813.4053857317344,\n",
       " -1851.039358922064,\n",
       " -789.3592731801506,\n",
       " -420.8204925933019,\n",
       " -580.5768864408675,\n",
       " -433.58026100199584]"
      ]
     },
     "execution_count": 131,
     "metadata": {},
     "output_type": "execute_result"
    }
   ],
   "source": [
    "arr_av_reward"
   ]
  },
  {
   "cell_type": "code",
   "execution_count": null,
   "id": "8cfa238c",
   "metadata": {},
   "outputs": [],
   "source": [
    "# torque of 0.35203373, we get av reward -755\n",
    "# torque of 2.2155256, we get av reward of -511\n",
    "# torque of -1.7520167 we get av reward of -1765\n",
    "# torque of 0.5822054 we get av reward of -537"
   ]
  },
  {
   "cell_type": "code",
   "execution_count": 134,
   "id": "7a54abf1",
   "metadata": {},
   "outputs": [
    {
     "data": {
      "image/png": "[encoded data removed]",
      "text/plain": [
       "<Figure size 640x480 with 1 Axes>"
      ]
     },
     "metadata": {},
     "output_type": "display_data"
    }
   ],
   "source": [
    "import matplotlib.pyplot as plt\n",
    "\n",
    "plt.scatter(arr_torque, arr_av_reward)\n",
    "plt.title('My Plot')\n",
    "plt.xlabel('torque values')\n",
    "plt.ylabel('average reward values')\n",
    "\n",
    "plt.show()"
   ]
  },
  {
   "cell_type": "markdown",
   "id": "3ef8cd89",
   "metadata": {},
   "source": [
    "#### How does it compare with the reward of the random agent ?\n",
    "\n",
    "We notice that the rewards at each episode are more stable than the ones while use the random agent. With the random agent, the reward fluctuates."
   ]
  },
  {
   "cell_type": "markdown",
   "id": "5ebe4148",
   "metadata": {},
   "source": [
    "#### What impact does the amplitude of the fixed torque have on the reward ?\n",
    "\n",
    "The amplitude of the torque gives the necessary force to the pendulum to be at least in the correct domain (upper domain). Therefore, the rewards are more stable at each episode. "
   ]
  }
 ],
 "metadata": {
  "kernelspec": {
   "display_name": "Python 3 (ipykernel)",
   "language": "python",
   "name": "python3"
  },
  "language_info": {
   "codemirror_mode": {
    "name": "ipython",
    "version": 3
   },
   "file_extension": ".py",
   "mimetype": "text/x-python",
   "name": "python",
   "nbconvert_exporter": "python",
   "pygments_lexer": "ipython3",
   "version": "3.9.13"
  }
 },
 "nbformat": 4,
 "nbformat_minor": 5
}
