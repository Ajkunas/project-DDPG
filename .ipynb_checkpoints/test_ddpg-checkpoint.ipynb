{
 "cells": [
  {
   "cell_type": "code",
   "execution_count": 2,
   "id": "f0287fc4",
   "metadata": {},
   "outputs": [],
   "source": [
    "import gym\n",
    "import numpy as np \n",
    "from helpers import *\n",
    "from ddpg import * \n",
    "import sys\n",
    "import numpy as np"
   ]
  },
  {
   "cell_type": "code",
   "execution_count": 3,
   "id": "697b73d9",
   "metadata": {},
   "outputs": [],
   "source": [
    "# Set up\n",
    "env = gym.make(\"Pendulum-v1\")\n",
    "norm_env = NormalizedEnv(env)\n",
    "\n",
    "agent = DDPGAgent(norm_env, 1e-4, 1e-4, 0.99, 100000, 0.3, 256)\n",
    "\n",
    "critic_losses = []\n",
    "actor_losses = []\n",
    "rewards = []\n",
    "batch_size = 128"
   ]
  },
  {
   "cell_type": "code",
   "execution_count": null,
   "id": "e76d9f66",
   "metadata": {},
   "outputs": [
    {
     "name": "stdout",
     "output_type": "stream",
     "text": [
      "episode: 0, reward: tensor([-6.2774]), critic loss: 10330.5, actor loss: -56.228492736816406 \n",
      "episode: 1, reward: tensor([-5.9317]), critic loss: 10316.345703125, actor loss: -56.317317962646484 \n",
      "episode: 2, reward: tensor([-6.5909]), critic loss: 10284.0947265625, actor loss: -56.28194046020508 \n",
      "episode: 3, reward: tensor([-6.0931]), critic loss: 10293.193359375, actor loss: -56.1517219543457 \n",
      "episode: 4, reward: tensor([-6.0523]), critic loss: 10272.416015625, actor loss: -56.16709899902344 \n",
      "episode: 5, reward: tensor([-5.3399]), critic loss: 10268.02734375, actor loss: -56.13455581665039 \n",
      "episode: 6, reward: tensor([-5.9449]), critic loss: 10279.7080078125, actor loss: -56.312557220458984 \n"
     ]
    }
   ],
   "source": [
    "for episode in range(50):\n",
    "    state, info = norm_env.reset()\n",
    "    episode_reward = 0\n",
    "    episode_critic_loss = 0\n",
    "    episode_actor_loss = 0\n",
    "    trunc = False\n",
    "    \n",
    "    while not trunc:\n",
    "        action = agent.compute_action(state)\n",
    "        next_state, reward, terminated, trunc, info = norm_env.step(action) \n",
    "        agent.buffer.add(state, action, reward, next_state, trunc)\n",
    "        \n",
    "        if len(agent.buffer) > batch_size:\n",
    "            transition = agent.buffer.sample(batch_size)\n",
    "            aloss, closs, reward = agent.update(transition)\n",
    "            #print(\"reward :\", reward)\n",
    "            episode_critic_loss += closs\n",
    "            episode_actor_loss += aloss\n",
    "        \n",
    "        state = next_state\n",
    "        episode_reward = torch.mean(reward)\n",
    "        #print(\"type of reward :\", type(episode_reward))\n",
    "\n",
    "        if trunc:\n",
    "            sys.stdout.write(\"episode: {}, reward: {}, critic loss: {}, actor loss: {} \\n\".format(episode, episode_reward, episode_critic_loss, episode_actor_loss))\n",
    "            break\n",
    "\n",
    "    rewards.append(episode_reward)\n",
    "    critic_losses.append(episode_critic_loss)\n",
    "    actor_losses.append(episode_actor_loss)"
   ]
  },
  {
   "cell_type": "code",
   "execution_count": null,
   "id": "6b6eafa0",
   "metadata": {},
   "outputs": [],
   "source": []
  }
 ],
 "metadata": {
  "kernelspec": {
   "display_name": "Python 3 (ipykernel)",
   "language": "python",
   "name": "python3"
  },
  "language_info": {
   "codemirror_mode": {
    "name": "ipython",
    "version": 3
   },
   "file_extension": ".py",
   "mimetype": "text/x-python",
   "name": "python",
   "nbconvert_exporter": "python",
   "pygments_lexer": "ipython3",
   "version": "3.9.13"
  }
 },
 "nbformat": 4,
 "nbformat_minor": 5
}
