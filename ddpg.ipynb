{
 "cells": [
  {
   "cell_type": "markdown",
   "id": "1a8c7558",
   "metadata": {},
   "source": [
    "## Minimal implementation of DDPG\n",
    "\n",
    "Part 5 of the project"
   ]
  },
  {
   "cell_type": "code",
   "execution_count": 3,
   "id": "fa34e802",
   "metadata": {},
   "outputs": [],
   "source": [
    "import gym \n",
    "import numpy as np\n",
    "from helpers import NormalizedEnv, RandomAgent\n",
    "from matplotlib import pyplot\n",
    "import torch.nn as nn\n",
    "import torch.nn.functional as F"
   ]
  },
  {
   "cell_type": "code",
   "execution_count": 10,
   "id": "d96dc009",
   "metadata": {},
   "outputs": [],
   "source": [
    "# Actor network implementation\n",
    "class PolicyNetwork(nn.Module):\n",
    "    def __init__(self):\n",
    "        super(PolicyNetwork, self).__init__() # refers to fact that it is a subclass of nn.Module and is inheriting all methods\n",
    "        \n",
    "        self.layer1 = nn.Linear(3, 32) # accepts the vector states as input (size 3)\n",
    "        self.layer2 = nn.Linear(32, 1) \n",
    "        self.layer3 = nn.Linear(1, 1) # outputs the action (a scalar)\n",
    "        \n",
    "    def forward(self, x):\n",
    "        x = self.layer1(x)\n",
    "        x = F.relu(x)\n",
    "        x = self.layer2(x)\n",
    "        x = F.relu(x)\n",
    "        x = self.layer3(x)\n",
    "        x = F.tanh(x) # output action between -1 and 1 \n",
    "        \n",
    "        return x"
   ]
  },
  {
   "cell_type": "code",
   "execution_count": 11,
   "id": "01be2fb0",
   "metadata": {},
   "outputs": [],
   "source": [
    "class GaussianActionNoise: \n",
    "    def __init__(self, sigma):\n",
    "        self.sigma = sigma\n",
    "        \n",
    "    def get_noisy_action(self, action):\n",
    "        noisy_action = action + self.sigma*np.random.randn()\n",
    "        return np.clip(noisy_action, -1, 1) # or max(-1, min(noisy_action, 1)), action need to be between -1 and 1"
   ]
  },
  {
   "cell_type": "code",
   "execution_count": null,
   "id": "fedd406c",
   "metadata": {},
   "outputs": [],
   "source": [
    "# Implementation of a minimal ddpg agent\n",
    "\n",
    "class DDPGAgent:\n",
    "    def __init__(self, env, actor_learning_rate, critic_learning_rate, gamma, buffer_size, sigma, batch_size):\n",
    "        \n",
    "        self.state_size = env.observation_space.shape[0]\n",
    "        self.action_size = env.action_space.shape[0]\n",
    "        \n",
    "        #set up actor critic\n",
    "        self.actor = PolicyNetwork()\n",
    "        self.critic = QNetwork()\n",
    "        self.buffer = ReplayBuffer()\n",
    "        self.noise = GaussianActionNoise(sigma)\n",
    "        \n",
    "    def compute_action(self, state, deterministic=True): # deterministic regulates whether to add a random noise to the action or not\n",
    "        action = self.actor.forward(state)\n",
    "        \n",
    "        if (deterministic):\n",
    "            action = self.noise.get_noisy_action(action)\n",
    "        return action\n",
    "    \n",
    "    def update(self, batch_size):\n",
    "        state, action, reward, next_state, trunc = self.buffer.sample(batch_size)\n",
    "        \n",
    "        # critic loss\n",
    "        q_val = self.critic.forward(state, action)\n",
    "        # to be completed .. \n",
    "        \n",
    "        # actor loss \n",
    "        action = compute_action(state)\n",
    "        policy_loss = -self.critic.forward(state, action).mean() # average output of the Q network\n",
    "        \n",
    "        # update the networks \n",
    "        \n",
    "        self.actor_optimizer.zero_grad() # what is the optimizer, to be determind\n",
    "        policy_loss.backward()\n",
    "        self.actor_optimizer.step()\n",
    "        \n",
    "        self.critic_optimizer.zero_grad() # what is the optimizer, to be determind"
   ]
  }
 ],
 "metadata": {
  "kernelspec": {
   "display_name": "Python 3 (ipykernel)",
   "language": "python",
   "name": "python3"
  },
  "language_info": {
   "codemirror_mode": {
    "name": "ipython",
    "version": 3
   },
   "file_extension": ".py",
   "mimetype": "text/x-python",
   "name": "python",
   "nbconvert_exporter": "python",
   "pygments_lexer": "ipython3",
   "version": "3.9.13"
  }
 },
 "nbformat": 4,
 "nbformat_minor": 5
}
